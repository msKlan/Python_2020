{
 "cells": [
  {
   "cell_type": "code",
   "execution_count": 2,
   "metadata": {},
   "outputs": [],
   "source": [
    "import requests as req\n",
    "from bs4 import BeautifulSoup as soup\n"
   ]
  },
  {
   "cell_type": "code",
   "execution_count": 5,
   "metadata": {},
   "outputs": [],
   "source": [
    "elg_url = \"https://www.elgiganten.dk/catalog/pc-tablets/barbar-computer/dk-windows-barbar-computer/windows-barbar-computer\"\n",
    "\n",
    "page = req.get(elg_url)\n",
    "page_soup = soup(page.text, \"html.parser\")\n"
   ]
  },
  {
   "cell_type": "code",
   "execution_count": 56,
   "metadata": {},
   "outputs": [
    {
     "output_type": "execute_result",
     "data": {
      "text/plain": "12"
     },
     "metadata": {},
     "execution_count": 56
    }
   ],
   "source": [
    "containers = page_soup.findAll(\"div\", {\"class\":\"mini-product-content-wrapper\"})\n",
    "len(containers)"
   ]
  },
  {
   "cell_type": "code",
   "execution_count": 57,
   "metadata": {},
   "outputs": [
    {
     "output_type": "execute_result",
     "data": {
      "text/plain": "<div class=\"mini-product-content-wrapper\"><a class=\"product-image-link\" href=\"https://www.elgiganten.dk/product/pc-tablets/barbar-computer/windows-barbar-computer/81931/asus-vivobook-15-barbar-computer\" onclick=\"Site.Common.trackLink('','', 'event9');\" title=\"Asus VivoBook 15 bærbar computer\">\n<img alt=\"Asus VivoBook 15 bærbar computer\" class=\"b-lazy product-image\" data-src=\"/image/dv_web_D180001002429468/81931/asus-vivobook-15-baerbar-computer.jpg?$digital220x220$\" src=\"/is/image/tubby/none?$digital220x220$\" title=\"Asus VivoBook 15 bærbar computer\"/><noscript><img alt=\"Asus VivoBook 15 bærbar computer\" class=\"product-image\" src=\"/image/dv_web_D180001002429468/81931/asus-vivobook-15-baerbar-computer.jpg?$digital220x220$\" title=\"\"/></noscript>\n</a>\n<div class=\"product-number sku rsNoDrag\">81931</div>\n<div class=\"nd-bv-rating\" id=\"BVRRInlineRating-81931\">\n<svg class=\"align-center\" height=\"10px\" viewbox=\"0 0 125 25\" width=\"100px\" xmlns=\"http://www.w3.org/2000/svg\" xmlns:xlink=\"http://www.w3.org/1999/xlink\">\n<defs><lineargradient gradientunits=\"userSpaceOnUse\" id=\"rateGradient-25-81931\" x1=\"0%\" x2=\"100%\" y1=\"100%\" y2=\"100%\">\n<stop offset=\"86%\" stop-color=\"#ffcd00\"></stop>\n<stop offset=\"86%\" stop-color=\"#dddddd\"></stop>\n</lineargradient></defs>\n<use fill=\"url(#rateGradient-25-81931)\" xlink:href=\"#rating-stars\"></use>\n</svg>\n</div><a class=\"product-name\" href=\"https://www.elgiganten.dk/product/pc-tablets/barbar-computer/windows-barbar-computer/81931/asus-vivobook-15-barbar-computer\" title=\"Asus VivoBook 15 bærbar computer\">\n<span class=\"table any-1-1\"><span class=\"table-cell\">Asus VivoBook 15 bærbar computer</span></span>\n</a><div class=\"product-price\">4 999\n<!-- cachekey=\"147561\" -->\n<div class=\"a-item-plp-text\">Outlet-pris fra 4 374 \n</div><div class=\"amount-of-offers\"><span class=\"none\"> </span></div></div>\n</div>"
     },
     "metadata": {},
     "execution_count": 57
    }
   ],
   "source": [
    "containers[0].a[\"title\"]\n",
    "containers[0]"
   ]
  },
  {
   "cell_type": "code",
   "execution_count": 68,
   "metadata": {},
   "outputs": [
    {
     "output_type": "execute_result",
     "data": {
      "text/plain": "<div class=\"product-price\">4 999\n<!-- cachekey=\"147561\" -->\n<div class=\"a-item-plp-text\">Outlet-pris fra 4 374 \n</div><div class=\"amount-of-offers\"><span class=\"none\"> </span></div></div>"
     },
     "metadata": {},
     "execution_count": 68
    }
   ],
   "source": [
    "price_blok = containers[0].findAll(\"div\", {\"class\":\"product-price\"})[0]\n",
    "containers[0].findAll(\"div\", {\"class\":\"product-price\"})[0]"
   ]
  },
  {
   "cell_type": "code",
   "execution_count": 79,
   "metadata": {},
   "outputs": [
    {
     "output_type": "execute_result",
     "data": {
      "text/plain": "'4999'"
     },
     "metadata": {},
     "execution_count": 79
    }
   ],
   "source": [
    "price_blok.text\n",
    "\n",
    "price_blok.text[:price_blok.text.find(\"\\r\")].replace(\"\\xa0\",\"\")"
   ]
  },
  {
   "cell_type": "code",
   "execution_count": 85,
   "metadata": {},
   "outputs": [
    {
     "output_type": "execute_result",
     "data": {
      "text/plain": "'4374'"
     },
     "metadata": {},
     "execution_count": 85
    }
   ],
   "source": [
    "price_blok.div.text[16:price_blok.div.text.find(\"\\n\")-1].replace(\"\\xa0\",\"\")\n",
    "#price_blok.div.text[16:price_blok.div.text.find(\"\\n\")-1].replace(\"\\xa0\",\"\")"
   ]
  },
  {
   "cell_type": "code",
   "execution_count": 86,
   "metadata": {},
   "outputs": [
    {
     "output_type": "stream",
     "name": "stdout",
     "text": "Asus VivoBook 15 bærbar computer 4999 4374\nLenovo Ideapad L340 15,6\" gaming-computer (sort) 5499 \nLenovo Ideapad S145 14\" bærbar computer (sort) 3999 3499\nLenovo Ideapad C340 14\" 2-i-1 bærbar computer (sort) 4499 4139\nAcer Aspire 5 15,6\" bærbar computer (sølv) 6499 6304\nHP 14-ck2800no 14\" bærbar computer (sort) 1999 1749\nHP 14-cm1809no 14\" bærbar computer (sort) 3299 2886\nAsus Gaming TUF FX505DT 15,6\" gaming computer (sort) 5499 \nAsus Gaming TUF FX505DU 15,6\" gaming-computer (sort) 10999 9624\nHP Pavilion 14-ce2850no 14\" bærbar computer (sølv) 3497 2885\nLenovo Ideapad S145 14\" bærbar computer (sort) 3497 2624\nHP 15s Langkawi 15,6\" bærbar computer (sølv) 3499 2700\n"
    }
   ],
   "source": [
    "for container in containers:\n",
    "    title = container.a[\"title\"]\n",
    "    price_blok = container.findAll(\"div\", {\"class\":\"product-price\"})[0]\n",
    "    price = price_blok.text[:price_blok.text.find(\"\\r\")].replace(\"\\xa0\",\"\")\n",
    "    outlet_price = price_blok.div.text[16:price_blok.div.text.find(\"\\n\")-1].replace(\"\\xa0\",\"\")\n",
    "    print(title, price, outlet_price)"
   ]
  },
  {
   "cell_type": "code",
   "execution_count": null,
   "metadata": {},
   "outputs": [],
   "source": []
  }
 ],
 "metadata": {
  "language_info": {
   "codemirror_mode": {
    "name": "ipython",
    "version": 3
   },
   "file_extension": ".py",
   "mimetype": "text/x-python",
   "name": "python",
   "nbconvert_exporter": "python",
   "pygments_lexer": "ipython3",
   "version": "3.7.6-final"
  },
  "orig_nbformat": 2,
  "kernelspec": {
   "name": "python3",
   "display_name": "Python 3"
  }
 },
 "nbformat": 4,
 "nbformat_minor": 2
}