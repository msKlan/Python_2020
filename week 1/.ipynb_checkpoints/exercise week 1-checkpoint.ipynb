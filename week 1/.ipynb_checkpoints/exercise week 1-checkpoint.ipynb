{
 "cells": [
  {
   "cell_type": "code",
   "execution_count": 4,
   "metadata": {},
   "outputs": [
    {
     "data": {
      "text/plain": [
       "['Hans', 'Henrik']"
      ]
     },
     "execution_count": 4,
     "metadata": {},
     "output_type": "execute_result"
    }
   ],
   "source": [
    "names = [\"Hans\", \"Klaus\", \"Henrik\", \"Egon\"]\n",
    "h_names = [x for x in names if x.startswith(\"H\")]\n",
    "h_names\n"
   ]
  },
  {
   "cell_type": "code",
   "execution_count": 6,
   "metadata": {},
   "outputs": [
    {
     "data": {
      "text/plain": [
       "[1,\n",
       " 8,\n",
       " 27,\n",
       " 64,\n",
       " 125,\n",
       " 216,\n",
       " 343,\n",
       " 512,\n",
       " 729,\n",
       " 1000,\n",
       " 1331,\n",
       " 1728,\n",
       " 2197,\n",
       " 2744,\n",
       " 3375,\n",
       " 4096,\n",
       " 4913,\n",
       " 5832,\n",
       " 6859,\n",
       " 8000,\n",
       " 9261,\n",
       " 10648,\n",
       " 12167,\n",
       " 13824,\n",
       " 15625,\n",
       " 17576,\n",
       " 19683,\n",
       " 21952,\n",
       " 24389,\n",
       " 27000,\n",
       " 29791,\n",
       " 32768,\n",
       " 35937,\n",
       " 39304,\n",
       " 42875,\n",
       " 46656,\n",
       " 50653,\n",
       " 54872,\n",
       " 59319,\n",
       " 64000,\n",
       " 68921,\n",
       " 74088,\n",
       " 79507,\n",
       " 85184,\n",
       " 91125,\n",
       " 97336,\n",
       " 103823,\n",
       " 110592,\n",
       " 117649,\n",
       " 125000,\n",
       " 132651,\n",
       " 140608,\n",
       " 148877,\n",
       " 157464,\n",
       " 166375,\n",
       " 175616,\n",
       " 185193,\n",
       " 195112,\n",
       " 205379,\n",
       " 216000,\n",
       " 226981,\n",
       " 238328,\n",
       " 250047,\n",
       " 262144,\n",
       " 274625,\n",
       " 287496,\n",
       " 300763,\n",
       " 314432,\n",
       " 328509,\n",
       " 343000,\n",
       " 357911,\n",
       " 373248,\n",
       " 389017,\n",
       " 405224,\n",
       " 421875,\n",
       " 438976,\n",
       " 456533,\n",
       " 474552,\n",
       " 493039,\n",
       " 512000,\n",
       " 531441,\n",
       " 551368,\n",
       " 571787,\n",
       " 592704,\n",
       " 614125,\n",
       " 636056,\n",
       " 658503,\n",
       " 681472,\n",
       " 704969,\n",
       " 729000,\n",
       " 753571,\n",
       " 778688,\n",
       " 804357,\n",
       " 830584,\n",
       " 857375,\n",
       " 884736,\n",
       " 912673,\n",
       " 941192,\n",
       " 970299]"
      ]
     },
     "execution_count": 6,
     "metadata": {},
     "output_type": "execute_result"
    }
   ],
   "source": [
    "[n**3 for n in list(range(1,100))]"
   ]
  },
  {
   "cell_type": "code",
   "execution_count": 7,
   "metadata": {},
   "outputs": [
    {
     "data": {
      "text/plain": [
       "[(4, 'Hans'), (5, 'Klaus'), (6, 'Henrik'), (4, 'Egon')]"
      ]
     },
     "execution_count": 7,
     "metadata": {},
     "output_type": "execute_result"
    }
   ],
   "source": [
    "[(len(x), x) for x in names]"
   ]
  },
  {
   "cell_type": "code",
   "execution_count": 12,
   "metadata": {},
   "outputs": [
    {
     "name": "stdout",
     "output_type": "stream",
     "text": [
      "1\n",
      "9\n",
      "7\n",
      "1\n",
      "9\n",
      "7\n",
      "7\n",
      "9\n"
     ]
    }
   ],
   "source": [
    "string_w_numbers = \"1ny9d71n97n79h\"\n",
    "for x in string_w_numbers:\n",
    "    if x.isnumeric(): print(x)"
   ]
  },
  {
   "cell_type": "code",
   "execution_count": 14,
   "metadata": {},
   "outputs": [
    {
     "data": {
      "text/plain": [
       "{(1, 1),\n",
       " (1, 2),\n",
       " (1, 3),\n",
       " (1, 4),\n",
       " (1, 5),\n",
       " (1, 6),\n",
       " (2, 1),\n",
       " (2, 2),\n",
       " (2, 3),\n",
       " (2, 4),\n",
       " (2, 5),\n",
       " (2, 6),\n",
       " (3, 1),\n",
       " (3, 2),\n",
       " (3, 3),\n",
       " (3, 4),\n",
       " (3, 5),\n",
       " (3, 6),\n",
       " (4, 1),\n",
       " (4, 2),\n",
       " (4, 3),\n",
       " (4, 4),\n",
       " (4, 5),\n",
       " (4, 6),\n",
       " (5, 1),\n",
       " (5, 2),\n",
       " (5, 3),\n",
       " (5, 4),\n",
       " (5, 5),\n",
       " (5, 6),\n",
       " (6, 1),\n",
       " (6, 2),\n",
       " (6, 3),\n",
       " (6, 4),\n",
       " (6, 5),\n",
       " (6, 6)}"
      ]
     },
     "execution_count": 14,
     "metadata": {},
     "output_type": "execute_result"
    }
   ],
   "source": [
    "set([(d1, d2) for d1 in range(1,7) for d2 in range(1,7)])"
   ]
  },
  {
   "cell_type": "code",
   "execution_count": 16,
   "metadata": {},
   "outputs": [
    {
     "data": {
      "text/plain": [
       "{'Hans': 4, 'Klaus': 5, 'Henrik': 6, 'Egon': 4}"
      ]
     },
     "execution_count": 16,
     "metadata": {},
     "output_type": "execute_result"
    }
   ],
   "source": [
    "dict([(x, len(x)) for x in names])"
   ]
  },
  {
   "cell_type": "code",
   "execution_count": 19,
   "metadata": {},
   "outputs": [
    {
     "data": {
      "text/plain": [
       "{16: 4.0, 25: 5.0, 49: 7.0, 81: 9.0, 64: 8.0}"
      ]
     },
     "execution_count": 19,
     "metadata": {},
     "output_type": "execute_result"
    }
   ],
   "source": [
    "import math\n",
    "numbers = [16, 25, 49, 81, 64]\n",
    "dict([(n, math.sqrt(n)) for n in numbers])"
   ]
  },
  {
   "cell_type": "code",
   "execution_count": 24,
   "metadata": {},
   "outputs": [
    {
     "data": {
      "text/plain": [
       "{('1 & 1', 2.7777777777777777),\n",
       " ('1 & 2', 2.7777777777777777),\n",
       " ('1 & 3', 2.7777777777777777),\n",
       " ('1 & 4', 2.7777777777777777),\n",
       " ('1 & 5', 2.7777777777777777),\n",
       " ('1 & 6', 2.7777777777777777),\n",
       " ('2 & 1', 2.7777777777777777),\n",
       " ('2 & 2', 2.7777777777777777),\n",
       " ('2 & 3', 2.7777777777777777),\n",
       " ('2 & 4', 2.7777777777777777),\n",
       " ('2 & 5', 2.7777777777777777),\n",
       " ('2 & 6', 2.7777777777777777),\n",
       " ('3 & 1', 2.7777777777777777),\n",
       " ('3 & 2', 2.7777777777777777),\n",
       " ('3 & 3', 2.7777777777777777),\n",
       " ('3 & 4', 2.7777777777777777),\n",
       " ('3 & 5', 2.7777777777777777),\n",
       " ('3 & 6', 2.7777777777777777),\n",
       " ('4 & 1', 2.7777777777777777),\n",
       " ('4 & 2', 2.7777777777777777),\n",
       " ('4 & 3', 2.7777777777777777),\n",
       " ('4 & 4', 2.7777777777777777),\n",
       " ('4 & 5', 2.7777777777777777),\n",
       " ('4 & 6', 2.7777777777777777),\n",
       " ('5 & 1', 2.7777777777777777),\n",
       " ('5 & 2', 2.7777777777777777),\n",
       " ('5 & 3', 2.7777777777777777),\n",
       " ('5 & 4', 2.7777777777777777),\n",
       " ('5 & 5', 2.7777777777777777),\n",
       " ('5 & 6', 2.7777777777777777),\n",
       " ('6 & 1', 2.7777777777777777),\n",
       " ('6 & 2', 2.7777777777777777),\n",
       " ('6 & 3', 2.7777777777777777),\n",
       " ('6 & 4', 2.7777777777777777),\n",
       " ('6 & 5', 2.7777777777777777),\n",
       " ('6 & 6', 2.7777777777777777)}"
      ]
     },
     "execution_count": 24,
     "metadata": {},
     "output_type": "execute_result"
    }
   ],
   "source": [
    "set([(str(d1) + \" & \" + str(d2), 1/36*100) for d1 in range(1,7) for d2 in range(1,7)])"
   ]
  },
  {
   "cell_type": "code",
   "execution_count": null,
   "metadata": {},
   "outputs": [],
   "source": []
  }
 ],
 "metadata": {
  "kernelspec": {
   "display_name": "Python 3",
   "language": "python",
   "name": "python3"
  },
  "language_info": {
   "codemirror_mode": {
    "name": "ipython",
    "version": 3
   },
   "file_extension": ".py",
   "mimetype": "text/x-python",
   "name": "python",
   "nbconvert_exporter": "python",
   "pygments_lexer": "ipython3",
   "version": "3.7.4"
  }
 },
 "nbformat": 4,
 "nbformat_minor": 2
}
